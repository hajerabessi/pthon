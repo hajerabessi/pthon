{
 "cells": [
  {
   "attachments": {
    "image.png": {
     "image/png": "[encoded data removed]"
    }
   },
   "cell_type": "markdown",
   "metadata": {},
   "source": [
    "![image.png](attachment:image.png)"
   ]
  },
  {
   "cell_type": "markdown",
   "metadata": {},
   "source": [
    "# TP4-Partie2: Régression"
   ]
  },
  {
   "cell_type": "code",
   "execution_count": 1,
   "metadata": {
    "id": "Tza_H7Ja3ebH"
   },
   "outputs": [],
   "source": [
    "import pandas as pd\n",
    "import matplotlib.pyplot as plt\n",
    "import seaborn as sns\n",
    "import numpy as np\n",
    "from scipy.stats import norm\n",
    "from sklearn.preprocessing import StandardScaler\n",
    "from scipy import stats\n",
    "import warnings\n",
    "warnings.filterwarnings('ignore')\n",
    "%matplotlib inline"
   ]
  },
  {
   "cell_type": "code",
   "execution_count": 2,
   "metadata": {
    "id": "WWn7iBQI4DeO"
   },
   "outputs": [],
   "source": [
    "df = pd.read_csv('DatasetHousePrice.csv')\n"
   ]
  },
  {
   "cell_type": "markdown",
   "metadata": {},
   "source": [
    "## Business understanding + Data understanding "
   ]
  },
  {
   "cell_type": "code",
   "execution_count": 4,
   "metadata": {
    "colab": {
     "base_uri": "https://localhost:8080/"
    },
    "id": "toq23bRX4y19",
    "outputId": "352cd52c-d4fb-4495-f0da-8a29fd28e390"
   },
   "outputs": [
    {
     "name": "stdout",
     "output_type": "stream",
     "text": [
      "<class 'pandas.core.frame.DataFrame'>\n",
      "RangeIndex: 1460 entries, 0 to 1459\n",
      "Data columns (total 81 columns):\n",
      " #   Column         Non-Null Count  Dtype  \n",
      "---  ------         --------------  -----  \n",
      " 0   Id             1460 non-null   int64  \n",
      " 1   MSSubClass     1460 non-null   int64  \n",
      " 2   MSZoning       1460 non-null   object \n",
      " 3   LotFrontage    1201 non-null   float64\n",
      " 4   LotArea        1460 non-null   int64  \n",
      " 5   Street         1460 non-null   object \n",
      " 6   Alley          91 non-null     object \n",
      " 7   LotShape       1460 non-null   object \n",
      " 8   LandContour    1460 non-null   object \n",
      " 9   Utilities      1460 non-null   object \n",
      " 10  LotConfig      1460 non-null   object \n",
      " 11  LandSlope      1460 non-null   object \n",
      " 12  Neighborhood   1460 non-null   object \n",
      " 13  Condition1     1460 non-null   object \n",
      " 14  Condition2     1460 non-null   object \n",
      " 15  BldgType       1460 non-null   object \n",
      " 16  HouseStyle     1460 non-null   object \n",
      " 17  OverallQual    1460 non-null   int64  \n",
      " 18  OverallCond    1460 non-null   int64  \n",
      " 19  YearBuilt      1460 non-null   int64  \n",
      " 20  YearRemodAdd   1460 non-null   int64  \n",
      " 21  RoofStyle      1460 non-null   object \n",
      " 22  RoofMatl       1460 non-null   object \n",
      " 23  Exterior1st    1460 non-null   object \n",
      " 24  Exterior2nd    1460 non-null   object \n",
      " 25  MasVnrType     1452 non-null   object \n",
      " 26  MasVnrArea     1452 non-null   float64\n",
      " 27  ExterQual      1460 non-null   object \n",
      " 28  ExterCond      1460 non-null   object \n",
      " 29  Foundation     1460 non-null   object \n",
      " 30  BsmtQual       1423 non-null   object \n",
      " 31  BsmtCond       1423 non-null   object \n",
      " 32  BsmtExposure   1422 non-null   object \n",
      " 33  BsmtFinType1   1423 non-null   object \n",
      " 34  BsmtFinSF1     1460 non-null   int64  \n",
      " 35  BsmtFinType2   1422 non-null   object \n",
      " 36  BsmtFinSF2     1460 non-null   int64  \n",
      " 37  BsmtUnfSF      1460 non-null   int64  \n",
      " 38  TotalBsmtSF    1460 non-null   int64  \n",
      " 39  Heating        1460 non-null   object \n",
      " 40  HeatingQC      1460 non-null   object \n",
      " 41  CentralAir     1460 non-null   object \n",
      " 42  Electrical     1459 non-null   object \n",
      " 43  1stFlrSF       1460 non-null   int64  \n",
      " 44  2ndFlrSF       1460 non-null   int64  \n",
      " 45  LowQualFinSF   1460 non-null   int64  \n",
      " 46  GrLivArea      1460 non-null   int64  \n",
      " 47  BsmtFullBath   1460 non-null   int64  \n",
      " 48  BsmtHalfBath   1460 non-null   int64  \n",
      " 49  FullBath       1460 non-null   int64  \n",
      " 50  HalfBath       1460 non-null   int64  \n",
      " 51  BedroomAbvGr   1460 non-null   int64  \n",
      " 52  KitchenAbvGr   1460 non-null   int64  \n",
      " 53  KitchenQual    1460 non-null   object \n",
      " 54  TotRmsAbvGrd   1460 non-null   int64  \n",
      " 55  Functional     1460 non-null   object \n",
      " 56  Fireplaces     1460 non-null   int64  \n",
      " 57  FireplaceQu    770 non-null    object \n",
      " 58  GarageType     1379 non-null   object \n",
      " 59  GarageYrBlt    1379 non-null   float64\n",
      " 60  GarageFinish   1379 non-null   object \n",
      " 61  GarageCars     1460 non-null   int64  \n",
      " 62  GarageArea     1460 non-null   int64  \n",
      " 63  GarageQual     1379 non-null   object \n",
      " 64  GarageCond     1379 non-null   object \n",
      " 65  PavedDrive     1460 non-null   object \n",
      " 66  WoodDeckSF     1460 non-null   int64  \n",
      " 67  OpenPorchSF    1460 non-null   int64  \n",
      " 68  EnclosedPorch  1460 non-null   int64  \n",
      " 69  3SsnPorch      1460 non-null   int64  \n",
      " 70  ScreenPorch    1460 non-null   int64  \n",
      " 71  PoolArea       1460 non-null   int64  \n",
      " 72  PoolQC         7 non-null      object \n",
      " 73  Fence          281 non-null    object \n",
      " 74  MiscFeature    54 non-null     object \n",
      " 75  MiscVal        1460 non-null   int64  \n",
      " 76  MoSold         1460 non-null   int64  \n",
      " 77  YrSold         1460 non-null   int64  \n",
      " 78  SaleType       1460 non-null   object \n",
      " 79  SaleCondition  1460 non-null   object \n",
      " 80  SalePrice      1460 non-null   int64  \n",
      "dtypes: float64(3), int64(35), object(43)\n",
      "memory usage: 924.0+ KB\n"
     ]
    }
   ],
   "source": [
    "df.info()"
   ]
  },
  {
   "cell_type": "code",
   "execution_count": 5,
   "metadata": {
    "colab": {
     "base_uri": "https://localhost:8080/",
     "height": 244
    },
    "id": "vERpPleF40HV",
    "outputId": "bdacd102-aa18-44f7-faae-5f60a1c9c10c"
   },
   "outputs": [
    {
     "data": {
      "text/html": [
       "<div>\n",
       "<style scoped>\n",
       "    .dataframe tbody tr th:only-of-type {\n",
       "        vertical-align: middle;\n",
       "    }\n",
       "\n",
       "    .dataframe tbody tr th {\n",
       "        vertical-align: top;\n",
       "    }\n",
       "\n",
       "    .dataframe thead th {\n",
       "        text-align: right;\n",
       "    }\n",
       "</style>\n",
       "<table border=\"1\" class=\"dataframe\">\n",
       "  <thead>\n",
       "    <tr style=\"text-align: right;\">\n",
       "      <th></th>\n",
       "      <th>Id</th>\n",
       "      <th>MSSubClass</th>\n",
       "      <th>MSZoning</th>\n",
       "      <th>LotFrontage</th>\n",
       "      <th>LotArea</th>\n",
       "      <th>Street</th>\n",
       "      <th>Alley</th>\n",
       "      <th>LotShape</th>\n",
       "      <th>LandContour</th>\n",
       "      <th>Utilities</th>\n",
       "      <th>...</th>\n",
       "      <th>PoolArea</th>\n",
       "      <th>PoolQC</th>\n",
       "      <th>Fence</th>\n",
       "      <th>MiscFeature</th>\n",
       "      <th>MiscVal</th>\n",
       "      <th>MoSold</th>\n",
       "      <th>YrSold</th>\n",
       "      <th>SaleType</th>\n",
       "      <th>SaleCondition</th>\n",
       "      <th>SalePrice</th>\n",
       "    </tr>\n",
       "  </thead>\n",
       "  <tbody>\n",
       "    <tr>\n",
       "      <th>0</th>\n",
       "      <td>1</td>\n",
       "      <td>60</td>\n",
       "      <td>RL</td>\n",
       "      <td>65.0</td>\n",
       "      <td>8450</td>\n",
       "      <td>Pave</td>\n",
       "      <td>NaN</td>\n",
       "      <td>Reg</td>\n",
       "      <td>Lvl</td>\n",
       "      <td>AllPub</td>\n",
       "      <td>...</td>\n",
       "      <td>0</td>\n",
       "      <td>NaN</td>\n",
       "      <td>NaN</td>\n",
       "      <td>NaN</td>\n",
       "      <td>0</td>\n",
       "      <td>2</td>\n",
       "      <td>2008</td>\n",
       "      <td>WD</td>\n",
       "      <td>Normal</td>\n",
       "      <td>208500</td>\n",
       "    </tr>\n",
       "    <tr>\n",
       "      <th>1</th>\n",
       "      <td>2</td>\n",
       "      <td>20</td>\n",
       "      <td>RL</td>\n",
       "      <td>80.0</td>\n",
       "      <td>9600</td>\n",
       "      <td>Pave</td>\n",
       "      <td>NaN</td>\n",
       "      <td>Reg</td>\n",
       "      <td>Lvl</td>\n",
       "      <td>AllPub</td>\n",
       "      <td>...</td>\n",
       "      <td>0</td>\n",
       "      <td>NaN</td>\n",
       "      <td>NaN</td>\n",
       "      <td>NaN</td>\n",
       "      <td>0</td>\n",
       "      <td>5</td>\n",
       "      <td>2007</td>\n",
       "      <td>WD</td>\n",
       "      <td>Normal</td>\n",
       "      <td>181500</td>\n",
       "    </tr>\n",
       "    <tr>\n",
       "      <th>2</th>\n",
       "      <td>3</td>\n",
       "      <td>60</td>\n",
       "      <td>RL</td>\n",
       "      <td>68.0</td>\n",
       "      <td>11250</td>\n",
       "      <td>Pave</td>\n",
       "      <td>NaN</td>\n",
       "      <td>IR1</td>\n",
       "      <td>Lvl</td>\n",
       "      <td>AllPub</td>\n",
       "      <td>...</td>\n",
       "      <td>0</td>\n",
       "      <td>NaN</td>\n",
       "      <td>NaN</td>\n",
       "      <td>NaN</td>\n",
       "      <td>0</td>\n",
       "      <td>9</td>\n",
       "      <td>2008</td>\n",
       "      <td>WD</td>\n",
       "      <td>Normal</td>\n",
       "      <td>223500</td>\n",
       "    </tr>\n",
       "    <tr>\n",
       "      <th>3</th>\n",
       "      <td>4</td>\n",
       "      <td>70</td>\n",
       "      <td>RL</td>\n",
       "      <td>60.0</td>\n",
       "      <td>9550</td>\n",
       "      <td>Pave</td>\n",
       "      <td>NaN</td>\n",
       "      <td>IR1</td>\n",
       "      <td>Lvl</td>\n",
       "      <td>AllPub</td>\n",
       "      <td>...</td>\n",
       "      <td>0</td>\n",
       "      <td>NaN</td>\n",
       "      <td>NaN</td>\n",
       "      <td>NaN</td>\n",
       "      <td>0</td>\n",
       "      <td>2</td>\n",
       "      <td>2006</td>\n",
       "      <td>WD</td>\n",
       "      <td>Abnorml</td>\n",
       "      <td>140000</td>\n",
       "    </tr>\n",
       "    <tr>\n",
       "      <th>4</th>\n",
       "      <td>5</td>\n",
       "      <td>60</td>\n",
       "      <td>RL</td>\n",
       "      <td>84.0</td>\n",
       "      <td>14260</td>\n",
       "      <td>Pave</td>\n",
       "      <td>NaN</td>\n",
       "      <td>IR1</td>\n",
       "      <td>Lvl</td>\n",
       "      <td>AllPub</td>\n",
       "      <td>...</td>\n",
       "      <td>0</td>\n",
       "      <td>NaN</td>\n",
       "      <td>NaN</td>\n",
       "      <td>NaN</td>\n",
       "      <td>0</td>\n",
       "      <td>12</td>\n",
       "      <td>2008</td>\n",
       "      <td>WD</td>\n",
       "      <td>Normal</td>\n",
       "      <td>250000</td>\n",
       "    </tr>\n",
       "  </tbody>\n",
       "</table>\n",
       "<p>5 rows × 81 columns</p>\n",
       "</div>"
      ],
      "text/plain": [
       "   Id  MSSubClass MSZoning  LotFrontage  LotArea Street Alley LotShape  \\\n",
       "0   1          60       RL         65.0     8450   Pave   NaN      Reg   \n",
       "1   2          20       RL         80.0     9600   Pave   NaN      Reg   \n",
       "2   3          60       RL         68.0    11250   Pave   NaN      IR1   \n",
       "3   4          70       RL         60.0     9550   Pave   NaN      IR1   \n",
       "4   5          60       RL         84.0    14260   Pave   NaN      IR1   \n",
       "\n",
       "  LandContour Utilities  ... PoolArea PoolQC Fence MiscFeature MiscVal MoSold  \\\n",
       "0         Lvl    AllPub  ...        0    NaN   NaN         NaN       0      2   \n",
       "1         Lvl    AllPub  ...        0    NaN   NaN         NaN       0      5   \n",
       "2         Lvl    AllPub  ...        0    NaN   NaN         NaN       0      9   \n",
       "3         Lvl    AllPub  ...        0    NaN   NaN         NaN       0      2   \n",
       "4         Lvl    AllPub  ...        0    NaN   NaN         NaN       0     12   \n",
       "\n",
       "  YrSold  SaleType  SaleCondition  SalePrice  \n",
       "0   2008        WD         Normal     208500  \n",
       "1   2007        WD         Normal     181500  \n",
       "2   2008        WD         Normal     223500  \n",
       "3   2006        WD        Abnorml     140000  \n",
       "4   2008        WD         Normal     250000  \n",
       "\n",
       "[5 rows x 81 columns]"
      ]
     },
     "execution_count": 5,
     "metadata": {},
     "output_type": "execute_result"
    }
   ],
   "source": [
    "df.head()"
   ]
  },
  {
   "cell_type": "code",
   "execution_count": 6,
   "metadata": {},
   "outputs": [
    {
     "data": {
      "text/plain": [
       "(1460, 81)"
      ]
     },
     "execution_count": 6,
     "metadata": {},
     "output_type": "execute_result"
    }
   ],
   "source": [
    "df.shape"
   ]
  },
  {
   "cell_type": "code",
   "execution_count": 7,
   "metadata": {},
   "outputs": [
    {
     "data": {
      "text/html": [
       "<div>\n",
       "<style scoped>\n",
       "    .dataframe tbody tr th:only-of-type {\n",
       "        vertical-align: middle;\n",
       "    }\n",
       "\n",
       "    .dataframe tbody tr th {\n",
       "        vertical-align: top;\n",
       "    }\n",
       "\n",
       "    .dataframe thead th {\n",
       "        text-align: right;\n",
       "    }\n",
       "</style>\n",
       "<table border=\"1\" class=\"dataframe\">\n",
       "  <thead>\n",
       "    <tr style=\"text-align: right;\">\n",
       "      <th></th>\n",
       "      <th>Id</th>\n",
       "      <th>MSSubClass</th>\n",
       "      <th>LotFrontage</th>\n",
       "      <th>LotArea</th>\n",
       "      <th>OverallQual</th>\n",
       "      <th>OverallCond</th>\n",
       "      <th>YearBuilt</th>\n",
       "      <th>YearRemodAdd</th>\n",
       "      <th>MasVnrArea</th>\n",
       "      <th>BsmtFinSF1</th>\n",
       "      <th>...</th>\n",
       "      <th>WoodDeckSF</th>\n",
       "      <th>OpenPorchSF</th>\n",
       "      <th>EnclosedPorch</th>\n",
       "      <th>3SsnPorch</th>\n",
       "      <th>ScreenPorch</th>\n",
       "      <th>PoolArea</th>\n",
       "      <th>MiscVal</th>\n",
       "      <th>MoSold</th>\n",
       "      <th>YrSold</th>\n",
       "      <th>SalePrice</th>\n",
       "    </tr>\n",
       "  </thead>\n",
       "  <tbody>\n",
       "    <tr>\n",
       "      <th>count</th>\n",
       "      <td>1460.000000</td>\n",
       "      <td>1460.000000</td>\n",
       "      <td>1201.000000</td>\n",
       "      <td>1460.000000</td>\n",
       "      <td>1460.000000</td>\n",
       "      <td>1460.000000</td>\n",
       "      <td>1460.000000</td>\n",
       "      <td>1460.000000</td>\n",
       "      <td>1452.000000</td>\n",
       "      <td>1460.000000</td>\n",
       "      <td>...</td>\n",
       "      <td>1460.000000</td>\n",
       "      <td>1460.000000</td>\n",
       "      <td>1460.000000</td>\n",
       "      <td>1460.000000</td>\n",
       "      <td>1460.000000</td>\n",
       "      <td>1460.000000</td>\n",
       "      <td>1460.000000</td>\n",
       "      <td>1460.000000</td>\n",
       "      <td>1460.000000</td>\n",
       "      <td>1460.000000</td>\n",
       "    </tr>\n",
       "    <tr>\n",
       "      <th>mean</th>\n",
       "      <td>730.500000</td>\n",
       "      <td>56.897260</td>\n",
       "      <td>70.049958</td>\n",
       "      <td>10516.828082</td>\n",
       "      <td>6.099315</td>\n",
       "      <td>5.575342</td>\n",
       "      <td>1971.267808</td>\n",
       "      <td>1984.865753</td>\n",
       "      <td>103.685262</td>\n",
       "      <td>443.639726</td>\n",
       "      <td>...</td>\n",
       "      <td>94.244521</td>\n",
       "      <td>46.660274</td>\n",
       "      <td>21.954110</td>\n",
       "      <td>3.409589</td>\n",
       "      <td>15.060959</td>\n",
       "      <td>2.758904</td>\n",
       "      <td>43.489041</td>\n",
       "      <td>6.321918</td>\n",
       "      <td>2007.815753</td>\n",
       "      <td>180921.195890</td>\n",
       "    </tr>\n",
       "    <tr>\n",
       "      <th>std</th>\n",
       "      <td>421.610009</td>\n",
       "      <td>42.300571</td>\n",
       "      <td>24.284752</td>\n",
       "      <td>9981.264932</td>\n",
       "      <td>1.382997</td>\n",
       "      <td>1.112799</td>\n",
       "      <td>30.202904</td>\n",
       "      <td>20.645407</td>\n",
       "      <td>181.066207</td>\n",
       "      <td>456.098091</td>\n",
       "      <td>...</td>\n",
       "      <td>125.338794</td>\n",
       "      <td>66.256028</td>\n",
       "      <td>61.119149</td>\n",
       "      <td>29.317331</td>\n",
       "      <td>55.757415</td>\n",
       "      <td>40.177307</td>\n",
       "      <td>496.123024</td>\n",
       "      <td>2.703626</td>\n",
       "      <td>1.328095</td>\n",
       "      <td>79442.502883</td>\n",
       "    </tr>\n",
       "    <tr>\n",
       "      <th>min</th>\n",
       "      <td>1.000000</td>\n",
       "      <td>20.000000</td>\n",
       "      <td>21.000000</td>\n",
       "      <td>1300.000000</td>\n",
       "      <td>1.000000</td>\n",
       "      <td>1.000000</td>\n",
       "      <td>1872.000000</td>\n",
       "      <td>1950.000000</td>\n",
       "      <td>0.000000</td>\n",
       "      <td>0.000000</td>\n",
       "      <td>...</td>\n",
       "      <td>0.000000</td>\n",
       "      <td>0.000000</td>\n",
       "      <td>0.000000</td>\n",
       "      <td>0.000000</td>\n",
       "      <td>0.000000</td>\n",
       "      <td>0.000000</td>\n",
       "      <td>0.000000</td>\n",
       "      <td>1.000000</td>\n",
       "      <td>2006.000000</td>\n",
       "      <td>34900.000000</td>\n",
       "    </tr>\n",
       "    <tr>\n",
       "      <th>25%</th>\n",
       "      <td>365.750000</td>\n",
       "      <td>20.000000</td>\n",
       "      <td>59.000000</td>\n",
       "      <td>7553.500000</td>\n",
       "      <td>5.000000</td>\n",
       "      <td>5.000000</td>\n",
       "      <td>1954.000000</td>\n",
       "      <td>1967.000000</td>\n",
       "      <td>0.000000</td>\n",
       "      <td>0.000000</td>\n",
       "      <td>...</td>\n",
       "      <td>0.000000</td>\n",
       "      <td>0.000000</td>\n",
       "      <td>0.000000</td>\n",
       "      <td>0.000000</td>\n",
       "      <td>0.000000</td>\n",
       "      <td>0.000000</td>\n",
       "      <td>0.000000</td>\n",
       "      <td>5.000000</td>\n",
       "      <td>2007.000000</td>\n",
       "      <td>129975.000000</td>\n",
       "    </tr>\n",
       "    <tr>\n",
       "      <th>50%</th>\n",
       "      <td>730.500000</td>\n",
       "      <td>50.000000</td>\n",
       "      <td>69.000000</td>\n",
       "      <td>9478.500000</td>\n",
       "      <td>6.000000</td>\n",
       "      <td>5.000000</td>\n",
       "      <td>1973.000000</td>\n",
       "      <td>1994.000000</td>\n",
       "      <td>0.000000</td>\n",
       "      <td>383.500000</td>\n",
       "      <td>...</td>\n",
       "      <td>0.000000</td>\n",
       "      <td>25.000000</td>\n",
       "      <td>0.000000</td>\n",
       "      <td>0.000000</td>\n",
       "      <td>0.000000</td>\n",
       "      <td>0.000000</td>\n",
       "      <td>0.000000</td>\n",
       "      <td>6.000000</td>\n",
       "      <td>2008.000000</td>\n",
       "      <td>163000.000000</td>\n",
       "    </tr>\n",
       "    <tr>\n",
       "      <th>75%</th>\n",
       "      <td>1095.250000</td>\n",
       "      <td>70.000000</td>\n",
       "      <td>80.000000</td>\n",
       "      <td>11601.500000</td>\n",
       "      <td>7.000000</td>\n",
       "      <td>6.000000</td>\n",
       "      <td>2000.000000</td>\n",
       "      <td>2004.000000</td>\n",
       "      <td>166.000000</td>\n",
       "      <td>712.250000</td>\n",
       "      <td>...</td>\n",
       "      <td>168.000000</td>\n",
       "      <td>68.000000</td>\n",
       "      <td>0.000000</td>\n",
       "      <td>0.000000</td>\n",
       "      <td>0.000000</td>\n",
       "      <td>0.000000</td>\n",
       "      <td>0.000000</td>\n",
       "      <td>8.000000</td>\n",
       "      <td>2009.000000</td>\n",
       "      <td>214000.000000</td>\n",
       "    </tr>\n",
       "    <tr>\n",
       "      <th>max</th>\n",
       "      <td>1460.000000</td>\n",
       "      <td>190.000000</td>\n",
       "      <td>313.000000</td>\n",
       "      <td>215245.000000</td>\n",
       "      <td>10.000000</td>\n",
       "      <td>9.000000</td>\n",
       "      <td>2010.000000</td>\n",
       "      <td>2010.000000</td>\n",
       "      <td>1600.000000</td>\n",
       "      <td>5644.000000</td>\n",
       "      <td>...</td>\n",
       "      <td>857.000000</td>\n",
       "      <td>547.000000</td>\n",
       "      <td>552.000000</td>\n",
       "      <td>508.000000</td>\n",
       "      <td>480.000000</td>\n",
       "      <td>738.000000</td>\n",
       "      <td>15500.000000</td>\n",
       "      <td>12.000000</td>\n",
       "      <td>2010.000000</td>\n",
       "      <td>755000.000000</td>\n",
       "    </tr>\n",
       "  </tbody>\n",
       "</table>\n",
       "<p>8 rows × 38 columns</p>\n",
       "</div>"
      ],
      "text/plain": [
       "                Id   MSSubClass  LotFrontage        LotArea  OverallQual  \\\n",
       "count  1460.000000  1460.000000  1201.000000    1460.000000  1460.000000   \n",
       "mean    730.500000    56.897260    70.049958   10516.828082     6.099315   \n",
       "std     421.610009    42.300571    24.284752    9981.264932     1.382997   \n",
       "min       1.000000    20.000000    21.000000    1300.000000     1.000000   \n",
       "25%     365.750000    20.000000    59.000000    7553.500000     5.000000   \n",
       "50%     730.500000    50.000000    69.000000    9478.500000     6.000000   \n",
       "75%    1095.250000    70.000000    80.000000   11601.500000     7.000000   \n",
       "max    1460.000000   190.000000   313.000000  215245.000000    10.000000   \n",
       "\n",
       "       OverallCond    YearBuilt  YearRemodAdd   MasVnrArea   BsmtFinSF1  ...  \\\n",
       "count  1460.000000  1460.000000   1460.000000  1452.000000  1460.000000  ...   \n",
       "mean      5.575342  1971.267808   1984.865753   103.685262   443.639726  ...   \n",
       "std       1.112799    30.202904     20.645407   181.066207   456.098091  ...   \n",
       "min       1.000000  1872.000000   1950.000000     0.000000     0.000000  ...   \n",
       "25%       5.000000  1954.000000   1967.000000     0.000000     0.000000  ...   \n",
       "50%       5.000000  1973.000000   1994.000000     0.000000   383.500000  ...   \n",
       "75%       6.000000  2000.000000   2004.000000   166.000000   712.250000  ...   \n",
       "max       9.000000  2010.000000   2010.000000  1600.000000  5644.000000  ...   \n",
       "\n",
       "        WoodDeckSF  OpenPorchSF  EnclosedPorch    3SsnPorch  ScreenPorch  \\\n",
       "count  1460.000000  1460.000000    1460.000000  1460.000000  1460.000000   \n",
       "mean     94.244521    46.660274      21.954110     3.409589    15.060959   \n",
       "std     125.338794    66.256028      61.119149    29.317331    55.757415   \n",
       "min       0.000000     0.000000       0.000000     0.000000     0.000000   \n",
       "25%       0.000000     0.000000       0.000000     0.000000     0.000000   \n",
       "50%       0.000000    25.000000       0.000000     0.000000     0.000000   \n",
       "75%     168.000000    68.000000       0.000000     0.000000     0.000000   \n",
       "max     857.000000   547.000000     552.000000   508.000000   480.000000   \n",
       "\n",
       "          PoolArea       MiscVal       MoSold       YrSold      SalePrice  \n",
       "count  1460.000000   1460.000000  1460.000000  1460.000000    1460.000000  \n",
       "mean      2.758904     43.489041     6.321918  2007.815753  180921.195890  \n",
       "std      40.177307    496.123024     2.703626     1.328095   79442.502883  \n",
       "min       0.000000      0.000000     1.000000  2006.000000   34900.000000  \n",
       "25%       0.000000      0.000000     5.000000  2007.000000  129975.000000  \n",
       "50%       0.000000      0.000000     6.000000  2008.000000  163000.000000  \n",
       "75%       0.000000      0.000000     8.000000  2009.000000  214000.000000  \n",
       "max     738.000000  15500.000000    12.000000  2010.000000  755000.000000  \n",
       "\n",
       "[8 rows x 38 columns]"
      ]
     },
     "execution_count": 7,
     "metadata": {},
     "output_type": "execute_result"
    }
   ],
   "source": [
    "df.describe(include='number')"
   ]
  },
  {
   "cell_type": "code",
   "execution_count": 8,
   "metadata": {},
   "outputs": [
    {
     "data": {
      "text/html": [
       "<div>\n",
       "<style scoped>\n",
       "    .dataframe tbody tr th:only-of-type {\n",
       "        vertical-align: middle;\n",
       "    }\n",
       "\n",
       "    .dataframe tbody tr th {\n",
       "        vertical-align: top;\n",
       "    }\n",
       "\n",
       "    .dataframe thead th {\n",
       "        text-align: right;\n",
       "    }\n",
       "</style>\n",
       "<table border=\"1\" class=\"dataframe\">\n",
       "  <thead>\n",
       "    <tr style=\"text-align: right;\">\n",
       "      <th></th>\n",
       "      <th>MSZoning</th>\n",
       "      <th>Street</th>\n",
       "      <th>Alley</th>\n",
       "      <th>LotShape</th>\n",
       "      <th>LandContour</th>\n",
       "      <th>Utilities</th>\n",
       "      <th>LotConfig</th>\n",
       "      <th>LandSlope</th>\n",
       "      <th>Neighborhood</th>\n",
       "      <th>Condition1</th>\n",
       "      <th>...</th>\n",
       "      <th>GarageType</th>\n",
       "      <th>GarageFinish</th>\n",
       "      <th>GarageQual</th>\n",
       "      <th>GarageCond</th>\n",
       "      <th>PavedDrive</th>\n",
       "      <th>PoolQC</th>\n",
       "      <th>Fence</th>\n",
       "      <th>MiscFeature</th>\n",
       "      <th>SaleType</th>\n",
       "      <th>SaleCondition</th>\n",
       "    </tr>\n",
       "  </thead>\n",
       "  <tbody>\n",
       "    <tr>\n",
       "      <th>count</th>\n",
       "      <td>1460</td>\n",
       "      <td>1460</td>\n",
       "      <td>91</td>\n",
       "      <td>1460</td>\n",
       "      <td>1460</td>\n",
       "      <td>1460</td>\n",
       "      <td>1460</td>\n",
       "      <td>1460</td>\n",
       "      <td>1460</td>\n",
       "      <td>1460</td>\n",
       "      <td>...</td>\n",
       "      <td>1379</td>\n",
       "      <td>1379</td>\n",
       "      <td>1379</td>\n",
       "      <td>1379</td>\n",
       "      <td>1460</td>\n",
       "      <td>7</td>\n",
       "      <td>281</td>\n",
       "      <td>54</td>\n",
       "      <td>1460</td>\n",
       "      <td>1460</td>\n",
       "    </tr>\n",
       "    <tr>\n",
       "      <th>unique</th>\n",
       "      <td>5</td>\n",
       "      <td>2</td>\n",
       "      <td>2</td>\n",
       "      <td>4</td>\n",
       "      <td>4</td>\n",
       "      <td>2</td>\n",
       "      <td>5</td>\n",
       "      <td>3</td>\n",
       "      <td>25</td>\n",
       "      <td>9</td>\n",
       "      <td>...</td>\n",
       "      <td>6</td>\n",
       "      <td>3</td>\n",
       "      <td>5</td>\n",
       "      <td>5</td>\n",
       "      <td>3</td>\n",
       "      <td>3</td>\n",
       "      <td>4</td>\n",
       "      <td>4</td>\n",
       "      <td>9</td>\n",
       "      <td>6</td>\n",
       "    </tr>\n",
       "    <tr>\n",
       "      <th>top</th>\n",
       "      <td>RL</td>\n",
       "      <td>Pave</td>\n",
       "      <td>Grvl</td>\n",
       "      <td>Reg</td>\n",
       "      <td>Lvl</td>\n",
       "      <td>AllPub</td>\n",
       "      <td>Inside</td>\n",
       "      <td>Gtl</td>\n",
       "      <td>NAmes</td>\n",
       "      <td>Norm</td>\n",
       "      <td>...</td>\n",
       "      <td>Attchd</td>\n",
       "      <td>Unf</td>\n",
       "      <td>TA</td>\n",
       "      <td>TA</td>\n",
       "      <td>Y</td>\n",
       "      <td>Gd</td>\n",
       "      <td>MnPrv</td>\n",
       "      <td>Shed</td>\n",
       "      <td>WD</td>\n",
       "      <td>Normal</td>\n",
       "    </tr>\n",
       "    <tr>\n",
       "      <th>freq</th>\n",
       "      <td>1151</td>\n",
       "      <td>1454</td>\n",
       "      <td>50</td>\n",
       "      <td>925</td>\n",
       "      <td>1311</td>\n",
       "      <td>1459</td>\n",
       "      <td>1052</td>\n",
       "      <td>1382</td>\n",
       "      <td>225</td>\n",
       "      <td>1260</td>\n",
       "      <td>...</td>\n",
       "      <td>870</td>\n",
       "      <td>605</td>\n",
       "      <td>1311</td>\n",
       "      <td>1326</td>\n",
       "      <td>1340</td>\n",
       "      <td>3</td>\n",
       "      <td>157</td>\n",
       "      <td>49</td>\n",
       "      <td>1267</td>\n",
       "      <td>1198</td>\n",
       "    </tr>\n",
       "  </tbody>\n",
       "</table>\n",
       "<p>4 rows × 43 columns</p>\n",
       "</div>"
      ],
      "text/plain": [
       "       MSZoning Street Alley LotShape LandContour Utilities LotConfig  \\\n",
       "count      1460   1460    91     1460        1460      1460      1460   \n",
       "unique        5      2     2        4           4         2         5   \n",
       "top          RL   Pave  Grvl      Reg         Lvl    AllPub    Inside   \n",
       "freq       1151   1454    50      925        1311      1459      1052   \n",
       "\n",
       "       LandSlope Neighborhood Condition1  ... GarageType GarageFinish  \\\n",
       "count       1460         1460       1460  ...       1379         1379   \n",
       "unique         3           25          9  ...          6            3   \n",
       "top          Gtl        NAmes       Norm  ...     Attchd          Unf   \n",
       "freq        1382          225       1260  ...        870          605   \n",
       "\n",
       "       GarageQual GarageCond PavedDrive PoolQC  Fence MiscFeature SaleType  \\\n",
       "count        1379       1379       1460      7    281          54     1460   \n",
       "unique          5          5          3      3      4           4        9   \n",
       "top            TA         TA          Y     Gd  MnPrv        Shed       WD   \n",
       "freq         1311       1326       1340      3    157          49     1267   \n",
       "\n",
       "       SaleCondition  \n",
       "count           1460  \n",
       "unique             6  \n",
       "top           Normal  \n",
       "freq            1198  \n",
       "\n",
       "[4 rows x 43 columns]"
      ]
     },
     "execution_count": 8,
     "metadata": {},
     "output_type": "execute_result"
    }
   ],
   "source": [
    "df.describe(include='object')"
   ]
  },
  {
   "cell_type": "markdown",
   "metadata": {},
   "source": [
    "### Analyse univariée "
   ]
  },
  {
   "cell_type": "markdown",
   "metadata": {
    "id": "xjI0oYh85BVU"
   },
   "source": [
    "Anlyser la variable catégorielle cible prix "
   ]
  },
  {
   "cell_type": "code",
   "execution_count": 9,
   "metadata": {
    "colab": {
     "base_uri": "https://localhost:8080/"
    },
    "id": "8oA26xYz5D-k",
    "outputId": "c79975df-df4b-4d0d-f781-e4fc902b729a"
   },
   "outputs": [
    {
     "data": {
      "text/plain": [
       "count      1460.000000\n",
       "mean     180921.195890\n",
       "std       79442.502883\n",
       "min       34900.000000\n",
       "25%      129975.000000\n",
       "50%      163000.000000\n",
       "75%      214000.000000\n",
       "max      755000.000000\n",
       "Name: SalePrice, dtype: float64"
      ]
     },
     "execution_count": 9,
     "metadata": {},
     "output_type": "execute_result"
    }
   ],
   "source": [
    "df['SalePrice'].describe()"
   ]
  },
  {
   "cell_type": "markdown",
   "metadata": {
    "id": "H94TwqKi5Q3M"
   },
   "source": [
    "Minimum est supérieur à zéro "
   ]
  },
  {
   "cell_type": "markdown",
   "metadata": {
    "id": "yEgpGGL65YR8"
   },
   "source": [
    "Histogramme des prix "
   ]
  },
  {
   "cell_type": "code",
   "execution_count": 10,
   "metadata": {
    "colab": {
     "base_uri": "https://localhost:8080/",
     "height": 290
    },
    "id": "LOe27EVf5ZqU",
    "outputId": "418973fd-047d-4369-94a2-5c0496dbd374"
   },
   "outputs": [
    {
     "data": {
      "image/png": "[encoded data removed]",
      "text/plain": [
       "<Figure size 432x288 with 1 Axes>"
      ]
     },
     "metadata": {
      "needs_background": "light"
     },
     "output_type": "display_data"
    }
   ],
   "source": [
    "sns.distplot(df['SalePrice']);"
   ]
  },
  {
   "cell_type": "markdown",
   "metadata": {
    "id": "TsofcOy6H193"
   },
   "source": [
    "### Analyse bi variée "
   ]
  },
  {
   "cell_type": "markdown",
   "metadata": {
    "id": "NKoZtsMQ5loE"
   },
   "source": [
    "Analyse bi-variée entre variables numériques"
   ]
  },
  {
   "cell_type": "code",
   "execution_count": 13,
   "metadata": {
    "colab": {
     "base_uri": "https://localhost:8080/",
     "height": 283
    },
    "id": "irzTkcIY5nk0",
    "outputId": "98f06a95-2bd0-47c3-9871-b54d9cf3c8e0"
   },
   "outputs": [
    {
     "data": {
      "image/png": "[encoded data removed]",
      "text/plain": [
       "<Figure size 432x288 with 1 Axes>"
      ]
     },
     "metadata": {
      "needs_background": "light"
     },
     "output_type": "display_data"
    }
   ],
   "source": [
    "df.plot.scatter(x='GrLivArea', y='SalePrice', ylim=(0,800000)); # greater living area (square feet)"
   ]
  },
  {
   "cell_type": "raw",
   "metadata": {
    "id": "JJezDr6i55Xd"
   },
   "source": [
    "GrLivArea et SalePrice ont une relation linéaire d'après le graphique\n",
    "Remarquez les 2 maisons vastes et pas chères à droite"
   ]
  },
  {
   "cell_type": "markdown",
   "metadata": {
    "id": "hBypcM7T6WrF"
   },
   "source": [
    "Une autre variable : TotalBsmTSF avec SalePrice "
   ]
  },
  {
   "cell_type": "raw",
   "metadata": {},
   "source": [
    "“TotalBsmtSF” — Total square feet of the basement area"
   ]
  },
  {
   "cell_type": "code",
   "execution_count": 14,
   "metadata": {
    "colab": {
     "base_uri": "https://localhost:8080/",
     "height": 283
    },
    "id": "g2zdeJbW6XLV",
    "outputId": "3bf09b79-ecd6-4d03-c670-12a5c33e6308"
   },
   "outputs": [
    {
     "data": {
      "image/png": "[encoded data removed]",
      "text/plain": [
       "<Figure size 432x288 with 1 Axes>"
      ]
     },
     "metadata": {
      "needs_background": "light"
     },
     "output_type": "display_data"
    }
   ],
   "source": [
    "\n",
    "df.plot.scatter(x='TotalBsmtSF', y='SalePrice', ylim=(0,800000));"
   ]
  },
  {
   "cell_type": "markdown",
   "metadata": {
    "id": "8ALjVAQ96e78"
   },
   "source": [
    "Strong linear: \"Exponential\". Tout peut changer !"
   ]
  },
  {
   "cell_type": "markdown",
   "metadata": {
    "id": "4QWlwE0e8Ppm"
   },
   "source": [
    "«GrLivArea» et «TotalBsmtSF» semblent être linéairement liés à «SalePrice».\n",
    "\n",
    "Les deux relations sont positives, ce qui signifie qu'à mesure qu'une variable augmente, l'autre augmente également. Dans le cas de 'TotalBsmtSF', nous pouvons voir que la pente de la relation linéaire est particulièrement élevée."
   ]
  },
  {
   "cell_type": "markdown",
   "metadata": {
    "id": "bLh61CmH6qk1"
   },
   "source": [
    "Analyse Bi-variée entre catégoriel et numérique"
   ]
  },
  {
   "cell_type": "markdown",
   "metadata": {
    "id": "FE-ipm3v7zZE"
   },
   "source": [
    "La boîte à moustaches résume quelques indicateurs de position du caractère étudié (médiane, quartiles, minimum, maximum ou déciles). Ce diagramme est utilisé principalement pour comparer un même caractère dans deux populations de tailles différentes.\n",
    "La boîte à moustaches (aussi appelée diagramme en boîte,plus simplement box plot en anglais) est un moyen rapide de figurer le profil essentiel d'une série statistique quantitative."
   ]
  },
  {
   "cell_type": "code",
   "execution_count": 15,
   "metadata": {},
   "outputs": [
    {
     "data": {
      "text/plain": [
       "5     397\n",
       "6     374\n",
       "7     319\n",
       "8     168\n",
       "4     116\n",
       "9      43\n",
       "3      20\n",
       "10     18\n",
       "2       3\n",
       "1       2\n",
       "Name: OverallQual, dtype: int64"
      ]
     },
     "execution_count": 15,
     "metadata": {},
     "output_type": "execute_result"
    }
   ],
   "source": [
    "df[\"OverallQual\"].value_counts() # “OverallQual” — overall material and finish quality"
   ]
  },
  {
   "cell_type": "code",
   "execution_count": 16,
   "metadata": {
    "colab": {
     "base_uri": "https://localhost:8080/",
     "height": 392
    },
    "id": "_pzv6vRN60pF",
    "outputId": "12c84857-045e-42b6-af8a-c915933fb3ca"
   },
   "outputs": [
    {
     "data": {
      "image/png": "[encoded data removed]",
      "text/plain": [
       "<Figure size 432x288 with 1 Axes>"
      ]
     },
     "metadata": {
      "needs_background": "light"
     },
     "output_type": "display_data"
    }
   ],
   "source": [
    "\n",
    "fig = sns.boxplot(x='OverallQual', y=\"SalePrice\", data=df)"
   ]
  },
  {
   "cell_type": "markdown",
   "metadata": {
    "id": "KvNwqAA67rtU"
   },
   "source": [
    "La boîte à moustaches montre comment les prix de vente augmentent avec la qualité globale."
   ]
  },
  {
   "cell_type": "markdown",
   "metadata": {
    "id": "CCT3287t8m9N"
   },
   "source": [
    "Nous avons analysé trois variables. Dans un cas réel, vous pouvez en faire pour d'autres caractéristiques (variables) pour déceler les correlations et choisir les caractéristiques qui vont contribuer à générer un modèle de qualité. "
   ]
  },
  {
   "cell_type": "markdown",
   "metadata": {
    "id": "15fA5fFh83C3"
   },
   "source": [
    "Matrice de corrélation "
   ]
  },
  {
   "cell_type": "code",
   "execution_count": 17,
   "metadata": {
    "colab": {
     "base_uri": "https://localhost:8080/",
     "height": 607
    },
    "id": "PAXdqY7f842X",
    "outputId": "453c44f2-7d43-4179-c2f4-3ff5c4e76050"
   },
   "outputs": [
    {
     "data": {
      "image/png": "[encoded data removed]",
      "text/plain": [
       "<Figure size 864x648 with 2 Axes>"
      ]
     },
     "metadata": {
      "needs_background": "light"
     },
     "output_type": "display_data"
    }
   ],
   "source": [
    "corrmat = df.corr()\n",
    "f, ax = plt.subplots(figsize=(12, 9))\n",
    "sns.heatmap(corrmat, vmax=.8, square=True);"
   ]
  },
  {
   "cell_type": "markdown",
   "metadata": {
    "id": "sjEiz6f89ulN"
   },
   "source": [
    "Un Zoom sur la matrice de corrélation de SalePrice "
   ]
  },
  {
   "cell_type": "code",
   "execution_count": 18,
   "metadata": {
    "colab": {
     "base_uri": "https://localhost:8080/",
     "height": 365
    },
    "id": "w3QaDuaQ9yaF",
    "outputId": "c9d1ac48-2b0a-4603-89d9-3a6931939986"
   },
   "outputs": [
    {
     "data": {
      "image/png": "[encoded data removed]",
      "text/plain": [
       "<Figure size 432x288 with 2 Axes>"
      ]
     },
     "metadata": {},
     "output_type": "display_data"
    }
   ],
   "source": [
    "k = 10 #number of variables for heatmap\n",
    "cols = corrmat.nlargest(k, 'SalePrice')['SalePrice'].index\n",
    "cm = np.corrcoef(df[cols].values.T)\n",
    "sns.set(font_scale=1.25)\n",
    "hm = sns.heatmap(cm, cbar=True, annot=True, square=True, fmt='.2f', annot_kws={'size': 10}, yticklabels=cols.values, xticklabels=cols.values)\n",
    "plt.show()"
   ]
  },
  {
   "cell_type": "markdown",
   "metadata": {
    "id": "9GAQaJJv-Ltl"
   },
   "source": [
    "«OverallQual», «GrLivArea» et «TotalBsmtSF» sont fortement corrélés avec «SalePrice». Vérifier!\n",
    "\n",
    "«GarageCars» et «GarageArea» font également partie des variables les plus fortement corrélées. Cependant, le nombre de voitures qui rentrent dans le garage est une conséquence de la zone du garage. «GarageCars» et «GarageArea» sont comme des frères jumeaux. Vous ne pourrez pas les distinguer. Par conséquent, nous avons juste besoin d'une de ces variables dans notre analyse (nous pouvons garder 'GarageCars' car sa corrélation avec 'SalePrice' est plus élevée).\n",
    "\n",
    "«TotalBsmtSF» et «1stFloor» semblent également être des frères jumeaux. Nous pouvons garder 'TotalBsmtSF' juste pour dire que notre première estimation était juste."
   ]
  },
  {
   "cell_type": "markdown",
   "metadata": {},
   "source": [
    "## Preprocessing "
   ]
  },
  {
   "cell_type": "markdown",
   "metadata": {
    "id": "xbHp0S-jAAXX"
   },
   "source": [
    "Les données manquantes : missing data \n"
   ]
  },
  {
   "cell_type": "code",
   "execution_count": 19,
   "metadata": {
    "colab": {
     "base_uri": "https://localhost:8080/",
     "height": 639
    },
    "id": "Z8x_JkmjAIRm",
    "outputId": "da335942-254e-4d45-b99c-fb80e1e7acc4"
   },
   "outputs": [
    {
     "data": {
      "text/html": [
       "<div>\n",
       "<style scoped>\n",
       "    .dataframe tbody tr th:only-of-type {\n",
       "        vertical-align: middle;\n",
       "    }\n",
       "\n",
       "    .dataframe tbody tr th {\n",
       "        vertical-align: top;\n",
       "    }\n",
       "\n",
       "    .dataframe thead th {\n",
       "        text-align: right;\n",
       "    }\n",
       "</style>\n",
       "<table border=\"1\" class=\"dataframe\">\n",
       "  <thead>\n",
       "    <tr style=\"text-align: right;\">\n",
       "      <th></th>\n",
       "      <th>Total</th>\n",
       "      <th>Percent</th>\n",
       "    </tr>\n",
       "  </thead>\n",
       "  <tbody>\n",
       "    <tr>\n",
       "      <th>PoolQC</th>\n",
       "      <td>1453</td>\n",
       "      <td>0.995205</td>\n",
       "    </tr>\n",
       "    <tr>\n",
       "      <th>MiscFeature</th>\n",
       "      <td>1406</td>\n",
       "      <td>0.963014</td>\n",
       "    </tr>\n",
       "    <tr>\n",
       "      <th>Alley</th>\n",
       "      <td>1369</td>\n",
       "      <td>0.937671</td>\n",
       "    </tr>\n",
       "    <tr>\n",
       "      <th>Fence</th>\n",
       "      <td>1179</td>\n",
       "      <td>0.807534</td>\n",
       "    </tr>\n",
       "    <tr>\n",
       "      <th>FireplaceQu</th>\n",
       "      <td>690</td>\n",
       "      <td>0.472603</td>\n",
       "    </tr>\n",
       "    <tr>\n",
       "      <th>LotFrontage</th>\n",
       "      <td>259</td>\n",
       "      <td>0.177397</td>\n",
       "    </tr>\n",
       "    <tr>\n",
       "      <th>GarageCond</th>\n",
       "      <td>81</td>\n",
       "      <td>0.055479</td>\n",
       "    </tr>\n",
       "    <tr>\n",
       "      <th>GarageType</th>\n",
       "      <td>81</td>\n",
       "      <td>0.055479</td>\n",
       "    </tr>\n",
       "    <tr>\n",
       "      <th>GarageYrBlt</th>\n",
       "      <td>81</td>\n",
       "      <td>0.055479</td>\n",
       "    </tr>\n",
       "    <tr>\n",
       "      <th>GarageFinish</th>\n",
       "      <td>81</td>\n",
       "      <td>0.055479</td>\n",
       "    </tr>\n",
       "    <tr>\n",
       "      <th>GarageQual</th>\n",
       "      <td>81</td>\n",
       "      <td>0.055479</td>\n",
       "    </tr>\n",
       "    <tr>\n",
       "      <th>BsmtExposure</th>\n",
       "      <td>38</td>\n",
       "      <td>0.026027</td>\n",
       "    </tr>\n",
       "    <tr>\n",
       "      <th>BsmtFinType2</th>\n",
       "      <td>38</td>\n",
       "      <td>0.026027</td>\n",
       "    </tr>\n",
       "    <tr>\n",
       "      <th>BsmtFinType1</th>\n",
       "      <td>37</td>\n",
       "      <td>0.025342</td>\n",
       "    </tr>\n",
       "    <tr>\n",
       "      <th>BsmtCond</th>\n",
       "      <td>37</td>\n",
       "      <td>0.025342</td>\n",
       "    </tr>\n",
       "    <tr>\n",
       "      <th>BsmtQual</th>\n",
       "      <td>37</td>\n",
       "      <td>0.025342</td>\n",
       "    </tr>\n",
       "    <tr>\n",
       "      <th>MasVnrArea</th>\n",
       "      <td>8</td>\n",
       "      <td>0.005479</td>\n",
       "    </tr>\n",
       "    <tr>\n",
       "      <th>MasVnrType</th>\n",
       "      <td>8</td>\n",
       "      <td>0.005479</td>\n",
       "    </tr>\n",
       "    <tr>\n",
       "      <th>Electrical</th>\n",
       "      <td>1</td>\n",
       "      <td>0.000685</td>\n",
       "    </tr>\n",
       "    <tr>\n",
       "      <th>Utilities</th>\n",
       "      <td>0</td>\n",
       "      <td>0.000000</td>\n",
       "    </tr>\n",
       "  </tbody>\n",
       "</table>\n",
       "</div>"
      ],
      "text/plain": [
       "              Total   Percent\n",
       "PoolQC         1453  0.995205\n",
       "MiscFeature    1406  0.963014\n",
       "Alley          1369  0.937671\n",
       "Fence          1179  0.807534\n",
       "FireplaceQu     690  0.472603\n",
       "LotFrontage     259  0.177397\n",
       "GarageCond       81  0.055479\n",
       "GarageType       81  0.055479\n",
       "GarageYrBlt      81  0.055479\n",
       "GarageFinish     81  0.055479\n",
       "GarageQual       81  0.055479\n",
       "BsmtExposure     38  0.026027\n",
       "BsmtFinType2     38  0.026027\n",
       "BsmtFinType1     37  0.025342\n",
       "BsmtCond         37  0.025342\n",
       "BsmtQual         37  0.025342\n",
       "MasVnrArea        8  0.005479\n",
       "MasVnrType        8  0.005479\n",
       "Electrical        1  0.000685\n",
       "Utilities         0  0.000000"
      ]
     },
     "execution_count": 19,
     "metadata": {},
     "output_type": "execute_result"
    }
   ],
   "source": [
    "total = df.isnull().sum().sort_values(ascending=False)\n",
    "percent = (df.isnull().sum()/df.isnull().count()).sort_values(ascending=False)\n",
    "missing_data = pd.concat([total, percent], axis=1, keys=['Total', 'Percent'])\n",
    "missing_data.head(20)"
   ]
  },
  {
   "cell_type": "markdown",
   "metadata": {
    "id": "O9jcx3PpAjMt"
   },
   "source": [
    "-Hypothèse 1 : Nous considérerons que lorsque plus de 15% des données sont manquantes, nous devrions supprimer la variable correspondante et faire comme si elle n'avait jamais existé. Aucune astuce n'est employée pour remplir les données manquantes. \n",
    "-Décision1 : PoolQC', 'MiscFeature', 'Alley' sont des variables avec plus de 15% de données manquantes (à supprimer)\n",
    "- Les variables \"Garage..\" ont presque le même nombre de données manquantes.\n",
    "\n",
    "-Hypothèse 2 : Les données manquantes se réfèrent au même ensemble d'observations. Étant donné que les informations les plus importantes concernant les garages sont exprimées par «GarageCars» et étant donné que nous ne parlons que de 5% des données manquantes, supprimer les autres variables \"Garage...\"\n",
    "- Nous avons une observation manquante dans «Électrique». Puisqu'il ne s'agit que d'une seule observation, nous allons supprimer cette observation et conserver la variable.\n",
    "\n",
    "Décision finale qui est valable pour ce dataset seulement : En résumé, pour gérer les données manquantes, nous supprimerons toutes les variables avec des données manquantes, à l'exception de la variable «Électrique». Dans «Électrique», nous allons simplement supprimer l'observation avec des données manquantes."
   ]
  },
  {
   "cell_type": "code",
   "execution_count": 20,
   "metadata": {
    "colab": {
     "base_uri": "https://localhost:8080/"
    },
    "id": "5FyLW3NbCfvA",
    "outputId": "8d5e10b4-3228-43d8-90a5-82818cd58091"
   },
   "outputs": [
    {
     "data": {
      "text/plain": [
       "0"
      ]
     },
     "execution_count": 20,
     "metadata": {},
     "output_type": "execute_result"
    }
   ],
   "source": [
    "df = df.drop((missing_data[missing_data['Total'] > 1]).index,1)\n",
    "df = df.drop(df.loc[df['Electrical'].isnull()].index)\n",
    "df.isnull().sum().max() "
   ]
  },
  {
   "cell_type": "raw",
   "metadata": {},
   "source": [
    "Terminer le travail nécessaire pour le remplissage des vides "
   ]
  },
  {
   "cell_type": "markdown",
   "metadata": {
    "id": "5SwkLjdgDNk2"
   },
   "source": [
    "Les outliers : les outliers peuvent affecter le modèle comme elles peuvent être sources d'informations précieuses. "
   ]
  },
  {
   "cell_type": "code",
   "execution_count": 21,
   "metadata": {
    "colab": {
     "base_uri": "https://localhost:8080/"
    },
    "id": "V7pO-momHP4Z",
    "outputId": "9cb610c1-66e5-4d44-aada-cb58b3845071"
   },
   "outputs": [
    {
     "data": {
      "text/plain": [
       "array([[ 0.34704187],\n",
       "       [ 0.0071701 ],\n",
       "       [ 0.53585953],\n",
       "       ...,\n",
       "       [ 1.07713679],\n",
       "       [-0.48847623],\n",
       "       [-0.42081658]])"
      ]
     },
     "execution_count": 21,
     "metadata": {},
     "output_type": "execute_result"
    }
   ],
   "source": [
    "saleprice_scaled = StandardScaler().fit_transform(df['SalePrice'][:,np.newaxis]);\n",
    "\n",
    "saleprice_scaled"
   ]
  },
  {
   "cell_type": "code",
   "execution_count": 22,
   "metadata": {},
   "outputs": [
    {
     "data": {
      "text/plain": [
       "<matplotlib.axes._subplots.AxesSubplot at 0x1d8ac931248>"
      ]
     },
     "execution_count": 22,
     "metadata": {},
     "output_type": "execute_result"
    },
    {
     "data": {
      "image/png": "[encoded data removed]",
      "text/plain": [
       "<Figure size 432x288 with 1 Axes>"
      ]
     },
     "metadata": {},
     "output_type": "display_data"
    }
   ],
   "source": [
    "data_df = pd.DataFrame(saleprice_scaled)\n",
    "sns.distplot(data_df)"
   ]
  },
  {
   "cell_type": "markdown",
   "metadata": {
    "id": "HyqMvOhbHtPo"
   },
   "source": [
    "Les valeurs de plage basse sont similaires et pas trop éloignées de 0.\n",
    "Les valeurs élevées de la plage sont loin de 0. La valeur 7 semble être un outlier "
   ]
  },
  {
   "cell_type": "code",
   "execution_count": 23,
   "metadata": {
    "colab": {
     "base_uri": "https://localhost:8080/",
     "height": 333
    },
    "id": "O5i6fwCsH7vW",
    "outputId": "c070be19-2959-42ea-aa1a-4cbb7736abab"
   },
   "outputs": [
    {
     "name": "stderr",
     "output_type": "stream",
     "text": [
      "'c' argument looks like a single numeric RGB or RGBA sequence, which should be avoided as value-mapping will have precedence in case its length matches with 'x' & 'y'.  Please use a 2-D array with a single row if you really want to specify the same RGB or RGBA value for all points.\n"
     ]
    },
    {
     "data": {
      "image/png": "[encoded data removed]",
      "text/plain": [
       "<Figure size 432x288 with 1 Axes>"
      ]
     },
     "metadata": {},
     "output_type": "display_data"
    }
   ],
   "source": [
    "# On l'a fait en analyse bivariée en haut\n",
    "df.plot.scatter(x='GrLivArea', y='SalePrice', ylim=(0,800000));\n"
   ]
  },
  {
   "cell_type": "markdown",
   "metadata": {
    "id": "HHGdQGL-INlA"
   },
   "source": [
    "Les deux observations en haut du graphique sont ces 7. observations sur lesquelles nous avons dit qu'il fallait faire attention. Ils ressemblent à deux cas particuliers, mais ils semblent suivre la tendance. Pour cette raison, nous les conserverons."
   ]
  },
  {
   "cell_type": "markdown",
   "metadata": {
    "id": "MxfUasCvIctP"
   },
   "source": [
    "# Apprentissage "
   ]
  },
  {
   "cell_type": "markdown",
   "metadata": {
    "id": "YdtB7hQYJtTQ"
   },
   "source": [
    "## Régression linéaire simple avec sklearn "
   ]
  },
  {
   "cell_type": "code",
   "execution_count": 33,
   "metadata": {
    "id": "oZkweQy7ISe6"
   },
   "outputs": [],
   "source": [
    "from sklearn.linear_model import LinearRegression"
   ]
  },
  {
   "cell_type": "code",
   "execution_count": 34,
   "metadata": {},
   "outputs": [],
   "source": [
    "from sklearn.model_selection import train_test_split"
   ]
  },
  {
   "cell_type": "code",
   "execution_count": 35,
   "metadata": {},
   "outputs": [
    {
     "name": "stdout",
     "output_type": "stream",
     "text": [
      "      GrLivArea\n",
      "326        1719\n",
      "1317       1352\n",
      "91         1235\n",
      "422         988\n",
      "517        2344\n",
      "...         ...\n",
      "1046       2868\n",
      "190        2727\n",
      "877        2224\n",
      "1167       1671\n",
      "1300       1983\n",
      "\n",
      "[1167 rows x 1 columns]\n"
     ]
    }
   ],
   "source": [
    "dfX = df[['GrLivArea']]\n",
    "dfY= df[['SalePrice']]\n",
    "X_train, X_test, Y_train, Y_test = train_test_split(dfX, dfY, test_size=0.2)\n",
    "print (X_train)\n",
    "\n"
   ]
  },
  {
   "cell_type": "code",
   "execution_count": 36,
   "metadata": {},
   "outputs": [
    {
     "name": "stdout",
     "output_type": "stream",
     "text": [
      "[[1719]\n",
      " [1352]\n",
      " [1235]\n",
      " ...\n",
      " [2224]\n",
      " [1671]\n",
      " [1983]]\n",
      "Les Coefficients:\n",
      "Le gradient 𝜃1 [[102.11785824]]\n",
      "Intercept: 𝜃0 [23587.11239351]\n"
     ]
    }
   ],
   "source": [
    "from sklearn import linear_model\n",
    "#Il faut passer à un tableau numpy\n",
    "tab_X_train = X_train.to_numpy ()\n",
    "tab_Y_train = Y_train.to_numpy ()\n",
    "print(tab_X_train)\n",
    "regr = linear_model.LinearRegression()\n",
    "regr.fit(tab_X_train,tab_Y_train)\n",
    "# Les coefficients\n",
    "print ('Les Coefficients:')\n",
    "print ('Le gradient 𝜃1', regr.coef_)\n",
    "print ('Intercept: 𝜃0',regr.intercept_)"
   ]
  },
  {
   "cell_type": "markdown",
   "metadata": {
    "id": "yDTBoKvCNuyU"
   },
   "source": [
    "Compléter l'equation du modèle linéarie f(x) = 𝜃0 + 𝜃1 x"
   ]
  },
  {
   "cell_type": "code",
   "execution_count": 37,
   "metadata": {
    "colab": {
     "base_uri": "https://localhost:8080/"
    },
    "id": "2WAwQF_oNlJY",
    "outputId": "8fc3d144-0e8e-46a4-88ab-a90fd37f3e4e"
   },
   "outputs": [
    {
     "data": {
      "text/plain": [
       "(1167, 1)"
      ]
     },
     "execution_count": 37,
     "metadata": {},
     "output_type": "execute_result"
    }
   ],
   "source": [
    "a0 = regr.intercept_\n",
    "a1 = regr.coef_\n",
    "fx = a0 + np.dot(tab_X_train,a1)\n",
    "\n",
    "fx.shape"
   ]
  },
  {
   "cell_type": "raw",
   "metadata": {
    "id": "qLEHzb9UPG5y"
   },
   "source": [
    "Représenter la régression linéaire simple "
   ]
  },
  {
   "cell_type": "code",
   "execution_count": 38,
   "metadata": {},
   "outputs": [
    {
     "data": {
      "text/plain": [
       "Text(0, 0.5, 'Salesprice')"
      ]
     },
     "execution_count": 38,
     "metadata": {},
     "output_type": "execute_result"
    },
    {
     "data": {
      "image/png": "[encoded data removed]",
      "text/plain": [
       "<Figure size 432x288 with 1 Axes>"
      ]
     },
     "metadata": {},
     "output_type": "display_data"
    }
   ],
   "source": [
    "plt.scatter(tab_X_train, tab_Y_train, color='blue')\n",
    "plt.plot(tab_X_train, regr.coef_[0][0]*X_train+regr.intercept_[0], 'red')\n",
    "# ou bien \n",
    "#plt.plot(X_train, fx, 'red')\n",
    "plt.xlabel(\"GrLivArea\")\n",
    "plt.ylabel(\"Salesprice\")"
   ]
  },
  {
   "cell_type": "code",
   "execution_count": 39,
   "metadata": {},
   "outputs": [
    {
     "name": "stdout",
     "output_type": "stream",
     "text": [
      "[[177376.606906  ]\n",
      " [213832.68229841]\n",
      " [174517.30687523]\n",
      " [124683.79205312]\n",
      " [129687.56710698]\n",
      " [225065.64670503]\n",
      " [205969.60721377]\n",
      " [193204.87493352]\n",
      " [126215.55992675]\n",
      " [200659.47858519]\n",
      " [122437.19917179]\n",
      " [192183.6963511 ]\n",
      " [114676.2419454 ]\n",
      " [206582.31436323]\n",
      " [111204.23476517]\n",
      " [267853.02930844]\n",
      " [116718.59911024]\n",
      " [ 97111.97032777]\n",
      " [175130.01402468]\n",
      " [224555.05741382]\n",
      " [121416.02058937]\n",
      " [135916.75645974]\n",
      " [193102.75707528]\n",
      " [200557.36072695]\n",
      " [164816.11034223]\n",
      " [170636.82826203]\n",
      " [155931.85667518]\n",
      " [146128.54228394]\n",
      " [122130.84559707]\n",
      " [179214.72835436]\n",
      " [306964.16901514]\n",
      " [172270.7139939 ]\n",
      " [161956.81031146]\n",
      " [183605.79625877]\n",
      " [134487.10644435]\n",
      " [ 85368.41662993]\n",
      " [121007.5491564 ]\n",
      " [198821.35713683]\n",
      " [105587.75256186]\n",
      " [211892.44299181]\n",
      " [273980.10080297]\n",
      " [182482.49981811]\n",
      " [137754.8779081 ]\n",
      " [268874.20789086]\n",
      " [221287.28595008]\n",
      " [141022.64937184]\n",
      " [288685.07238982]\n",
      " [214343.27158962]\n",
      " [211381.8537006 ]\n",
      " [212505.15014126]\n",
      " [225984.70742921]\n",
      " [480666.64588484]\n",
      " [117841.8955509 ]\n",
      " [255088.29702819]\n",
      " [220061.87165117]\n",
      " [207092.90365444]\n",
      " [270099.62218977]\n",
      " [168185.99966422]\n",
      " [104055.98468823]\n",
      " [210054.32154345]\n",
      " [164713.99248399]\n",
      " [199229.8285698 ]\n",
      " [135099.8135938 ]\n",
      " [207501.3750874 ]\n",
      " [160322.92457959]\n",
      " [128360.03494983]\n",
      " [159199.62813892]\n",
      " [280413.52587221]\n",
      " [165735.17106641]\n",
      " [121416.02058937]\n",
      " [114880.47766188]\n",
      " [134487.10644435]\n",
      " [160833.5138708 ]\n",
      " [140409.94222239]\n",
      " [251207.81841499]\n",
      " [176151.1926071 ]\n",
      " [136120.99217622]\n",
      " [174517.30687523]\n",
      " [167777.52823125]\n",
      " [147966.6637323 ]\n",
      " [110183.05618275]\n",
      " [193715.46422473]\n",
      " [280821.99730518]\n",
      " [180950.73194448]\n",
      " [118046.13126738]\n",
      " [184014.26769174]\n",
      " [293790.96530192]\n",
      " [221593.6395248 ]\n",
      " [142452.29938723]\n",
      " [138776.05649052]\n",
      " [180133.78907854]\n",
      " [174517.30687523]\n",
      " [154604.32451803]\n",
      " [148273.01730703]\n",
      " [160118.6888631 ]\n",
      " [140001.47078942]\n",
      " [124683.79205312]\n",
      " [131117.21712236]\n",
      " [204948.42863135]\n",
      " [160629.27815431]\n",
      " [133159.5742872 ]\n",
      " [103034.80610581]\n",
      " [166756.34964883]\n",
      " [182380.38195986]\n",
      " [146945.48514988]\n",
      " [160322.92457959]\n",
      " [140103.58864766]\n",
      " [192694.28564231]\n",
      " [254679.82559522]\n",
      " [158382.68527299]\n",
      " [222410.58239074]\n",
      " [204131.48576542]\n",
      " [237013.43611935]\n",
      " [156953.0352576 ]\n",
      " [160118.6888631 ]\n",
      " [185137.5641324 ]\n",
      " [ 87921.36308599]\n",
      " [100583.977508  ]\n",
      " [120394.84200695]\n",
      " [116718.59911024]\n",
      " [198617.12142035]\n",
      " [229967.30390065]\n",
      " [191060.39991044]\n",
      " [142758.65296196]\n",
      " [161241.98530376]\n",
      " [170330.4746873 ]\n",
      " [183503.67840053]\n",
      " [156442.44596639]\n",
      " [185954.50699833]\n",
      " [167981.76394774]\n",
      " [119067.3098498 ]\n",
      " [104260.22040471]\n",
      " [184933.32841591]\n",
      " [120701.19558168]\n",
      " [316869.60126462]\n",
      " [158791.15670595]\n",
      " [140512.06008063]\n",
      " [201578.53930937]\n",
      " [116922.83482672]\n",
      " [143677.71368613]\n",
      " [137040.0529004 ]\n",
      " [193204.87493352]\n",
      " [135099.8135938 ]\n",
      " [200557.36072695]\n",
      " [151438.67091253]\n",
      " [168798.70681367]\n",
      " [273571.62937   ]\n",
      " [184116.38554998]\n",
      " [172270.7139939 ]\n",
      " [119986.37057398]\n",
      " [196983.23568847]\n",
      " [176968.13547304]\n",
      " [275613.98653484]\n",
      " [189630.74989505]\n",
      " [117841.8955509 ]\n",
      " [119373.66342453]\n",
      " [165735.17106641]\n",
      " [135304.04931029]\n",
      " [182074.02838514]\n",
      " [210258.55725994]\n",
      " [140205.7065059 ]\n",
      " [195145.11424012]\n",
      " [186975.68558076]\n",
      " [224555.05741382]\n",
      " [151540.78877077]\n",
      " [254271.35416225]\n",
      " [139184.52792348]\n",
      " [111816.94191462]\n",
      " [116208.00981903]\n",
      " [116718.59911024]\n",
      " [194634.52494891]\n",
      " [209850.08582697]\n",
      " [200659.47858519]\n",
      " [144392.53869383]\n",
      " [270508.09362274]\n",
      " [187077.803439  ]\n",
      " [102013.62752339]\n",
      " [232520.2503567 ]\n",
      " [174210.9533005 ]\n",
      " [192285.81420934]\n",
      " [193919.69994121]\n",
      " [135814.6386015 ]\n",
      " [225780.47171273]\n",
      " [187282.03915548]\n",
      " [225474.118138  ]\n",
      " [223533.8788314 ]\n",
      " [112327.53120583]\n",
      " [245080.74692047]\n",
      " [142656.53510371]\n",
      " [125602.85277729]\n",
      " [292463.43314477]\n",
      " [264381.02212821]\n",
      " [213117.85729072]\n",
      " [195349.3499566 ]\n",
      " [237013.43611935]\n",
      " [224657.17527206]\n",
      " [169819.88539609]\n",
      " [140409.94222239]\n",
      " [158791.15670595]\n",
      " [198923.47499507]\n",
      " [147558.19229933]\n",
      " [190039.22132802]\n",
      " [111816.94191462]\n",
      " [237728.26112704]\n",
      " [153072.5566444 ]\n",
      " [138061.23148282]\n",
      " [152868.32092792]\n",
      " [147762.42801582]\n",
      " [160118.6888631 ]\n",
      " [246612.5147941 ]\n",
      " [140001.47078942]\n",
      " [170636.82826203]\n",
      " [219959.75379293]\n",
      " [237830.37898529]\n",
      " [195145.11424012]\n",
      " [165020.34605872]\n",
      " [327694.09423827]\n",
      " [184524.85698295]\n",
      " [211075.50012587]\n",
      " [244263.80405453]\n",
      " [131832.04213006]\n",
      " [159812.33528837]\n",
      " [229660.95032592]\n",
      " [229865.18604241]\n",
      " [189222.27846208]\n",
      " [135099.8135938 ]\n",
      " [133874.3992949 ]\n",
      " [129789.68496522]\n",
      " [175130.01402468]\n",
      " [179316.8462126 ]\n",
      " [ 94865.37744644]\n",
      " [110183.05618275]\n",
      " [148579.37088175]\n",
      " [293178.25815247]\n",
      " [211688.20727533]\n",
      " [192694.28564231]\n",
      " [194532.40709067]\n",
      " [131423.57069709]\n",
      " [192796.40350055]\n",
      " [217815.27876985]\n",
      " [237421.90755232]\n",
      " [142758.65296196]\n",
      " [185750.27128185]\n",
      " [191775.22491813]\n",
      " [219142.81092699]\n",
      " [264993.72927767]\n",
      " [257539.125626  ]\n",
      " [188609.57131263]\n",
      " [292565.55100302]\n",
      " [188405.33559614]\n",
      " [129789.68496522]\n",
      " [200659.47858519]\n",
      " [131525.68855533]\n",
      " [198106.53212914]\n",
      " [308700.17260526]\n",
      " [155114.91380924]\n",
      " [230886.36462483]\n",
      " [204948.42863135]\n",
      " [138469.70291579]\n",
      " [109161.87760033]\n",
      " [183197.3248258 ]\n",
      " [145107.36370152]\n",
      " [180338.02479502]\n",
      " [158586.92098947]\n",
      " [167062.70322356]\n",
      " [227005.88601163]\n",
      " [104872.92755416]\n",
      " [165428.81749169]\n",
      " [171249.53541148]\n",
      " [146128.54228394]\n",
      " [111816.94191462]\n",
      " [217815.27876985]\n",
      " [156953.0352576 ]\n",
      " [243038.38975563]\n",
      " [177172.37118952]\n",
      " [160425.04243783]\n",
      " [ 99869.1525003 ]\n",
      " [146128.54228394]\n",
      " [157769.97812353]\n",
      " [223635.99668964]\n",
      " [121007.5491564 ]\n",
      " [218427.9859193 ]\n",
      " [200659.47858519]\n",
      " [138571.82077403]\n",
      " [178602.02120491]\n",
      " [230682.12890834]\n",
      " [194532.40709067]\n",
      " [146945.48514988]\n",
      " [168185.99966422]\n",
      " [161446.22102025]\n",
      " [116820.71696848]\n",
      " [190549.81061923]]\n",
      "[[213490]\n",
      " [219210]\n",
      " [156500]\n",
      " [156000]\n",
      " [131500]\n",
      " [395000]\n",
      " [204750]\n",
      " [165500]\n",
      " [115000]\n",
      " [126000]\n",
      " [100000]\n",
      " [184000]\n",
      " [110000]\n",
      " [374000]\n",
      " [134900]\n",
      " [386250]\n",
      " [ 80500]\n",
      " [105900]\n",
      " [178900]\n",
      " [172000]\n",
      " [128000]\n",
      " [141000]\n",
      " [290000]\n",
      " [225000]\n",
      " [145250]\n",
      " [182900]\n",
      " [ 90000]\n",
      " [151000]\n",
      " [119900]\n",
      " [144000]\n",
      " [325000]\n",
      " [179540]\n",
      " [127500]\n",
      " [196000]\n",
      " [144900]\n",
      " [ 86000]\n",
      " [132500]\n",
      " [171000]\n",
      " [ 87000]\n",
      " [223000]\n",
      " [267000]\n",
      " [151000]\n",
      " [116000]\n",
      " [555000]\n",
      " [230500]\n",
      " [141000]\n",
      " [342643]\n",
      " [197500]\n",
      " [221000]\n",
      " [248000]\n",
      " [228500]\n",
      " [745000]\n",
      " [143000]\n",
      " [200000]\n",
      " [280000]\n",
      " [213500]\n",
      " [160000]\n",
      " [153900]\n",
      " [100000]\n",
      " [155000]\n",
      " [176000]\n",
      " [196500]\n",
      " [ 75000]\n",
      " [239900]\n",
      " [139000]\n",
      " [156000]\n",
      " [143000]\n",
      " [200624]\n",
      " [166000]\n",
      " [151500]\n",
      " [123000]\n",
      " [159950]\n",
      " [206300]\n",
      " [131400]\n",
      " [104000]\n",
      " [270000]\n",
      " [148800]\n",
      " [157500]\n",
      " [175000]\n",
      " [208300]\n",
      " [143000]\n",
      " [161000]\n",
      " [335000]\n",
      " [205000]\n",
      " [117500]\n",
      " [239000]\n",
      " [260000]\n",
      " [266000]\n",
      " [140000]\n",
      " [155000]\n",
      " [280000]\n",
      " [222000]\n",
      " [140000]\n",
      " [104900]\n",
      " [185000]\n",
      " [ 84500]\n",
      " [145000]\n",
      " [150000]\n",
      " [283463]\n",
      " [161500]\n",
      " [108480]\n",
      " [120500]\n",
      " [194201]\n",
      " [174000]\n",
      " [103000]\n",
      " [180000]\n",
      " [142500]\n",
      " [249700]\n",
      " [235000]\n",
      " [164500]\n",
      " [254900]\n",
      " [212000]\n",
      " [240000]\n",
      " [196000]\n",
      " [153500]\n",
      " [190000]\n",
      " [ 75500]\n",
      " [ 84500]\n",
      " [119000]\n",
      " [114500]\n",
      " [196500]\n",
      " [274725]\n",
      " [224000]\n",
      " [144000]\n",
      " [117000]\n",
      " [168000]\n",
      " [262500]\n",
      " [100000]\n",
      " [210000]\n",
      " [185500]\n",
      " [ 79500]\n",
      " [ 91000]\n",
      " [235128]\n",
      " [106500]\n",
      " [285000]\n",
      " [128000]\n",
      " [160200]\n",
      " [175000]\n",
      " [148000]\n",
      " [134900]\n",
      " [101000]\n",
      " [212000]\n",
      " [ 88000]\n",
      " [139600]\n",
      " [235000]\n",
      " [179600]\n",
      " [402000]\n",
      " [186700]\n",
      " [ 91500]\n",
      " [ 82000]\n",
      " [320000]\n",
      " [212000]\n",
      " [354000]\n",
      " [173000]\n",
      " [119500]\n",
      " [130250]\n",
      " [161750]\n",
      " [155000]\n",
      " [179900]\n",
      " [314813]\n",
      " [134000]\n",
      " [136905]\n",
      " [207500]\n",
      " [269500]\n",
      " [157000]\n",
      " [217000]\n",
      " [176000]\n",
      " [ 98000]\n",
      " [109008]\n",
      " [144000]\n",
      " [181000]\n",
      " [302000]\n",
      " [159000]\n",
      " [120000]\n",
      " [341000]\n",
      " [272000]\n",
      " [129500]\n",
      " [372500]\n",
      " [127000]\n",
      " [392500]\n",
      " [285000]\n",
      " [144000]\n",
      " [315000]\n",
      " [175900]\n",
      " [165000]\n",
      " [145000]\n",
      " [ 85500]\n",
      " [228500]\n",
      " [190000]\n",
      " [178400]\n",
      " [466500]\n",
      " [240000]\n",
      " [394432]\n",
      " [200500]\n",
      " [207500]\n",
      " [190000]\n",
      " [132000]\n",
      " [143000]\n",
      " [254000]\n",
      " [255500]\n",
      " [105000]\n",
      " [213000]\n",
      " [128500]\n",
      " [228000]\n",
      " [143500]\n",
      " [139000]\n",
      " [176000]\n",
      " [164000]\n",
      " [181000]\n",
      " [335000]\n",
      " [ 96500]\n",
      " [ 79000]\n",
      " [190000]\n",
      " [275500]\n",
      " [222000]\n",
      " [166000]\n",
      " [242000]\n",
      " [197000]\n",
      " [216837]\n",
      " [325624]\n",
      " [129900]\n",
      " [167900]\n",
      " [378500]\n",
      " [402861]\n",
      " [168000]\n",
      " [141000]\n",
      " [136000]\n",
      " [133700]\n",
      " [213000]\n",
      " [177000]\n",
      " [118000]\n",
      " [144500]\n",
      " [153337]\n",
      " [265979]\n",
      " [385000]\n",
      " [165400]\n",
      " [216000]\n",
      " [144000]\n",
      " [163500]\n",
      " [335000]\n",
      " [263000]\n",
      " [173000]\n",
      " [227000]\n",
      " [175000]\n",
      " [220000]\n",
      " [611657]\n",
      " [133900]\n",
      " [236500]\n",
      " [200000]\n",
      " [221500]\n",
      " [124000]\n",
      " [318000]\n",
      " [132000]\n",
      " [328900]\n",
      " [256000]\n",
      " [245500]\n",
      " [195000]\n",
      " [192500]\n",
      " [155000]\n",
      " [130000]\n",
      " [245000]\n",
      " [132500]\n",
      " [118964]\n",
      " [147000]\n",
      " [171750]\n",
      " [250000]\n",
      " [ 55000]\n",
      " [170000]\n",
      " [175000]\n",
      " [130500]\n",
      " [ 62383]\n",
      " [112000]\n",
      " [ 76500]\n",
      " [239686]\n",
      " [181000]\n",
      " [120000]\n",
      " [ 80000]\n",
      " [125000]\n",
      " [207500]\n",
      " [215000]\n",
      " [119750]\n",
      " [202900]\n",
      " [260000]\n",
      " [108000]\n",
      " [274000]\n",
      " [369900]\n",
      " [185000]\n",
      " [165000]\n",
      " [179900]\n",
      " [165000]\n",
      " [129000]\n",
      " [210000]]\n"
     ]
    }
   ],
   "source": [
    "tab_X_test = X_test.to_numpy ()\n",
    "tab_Y_test = Y_test.to_numpy ()\n",
    "test_Y_hat = regr.predict(tab_X_test)\n",
    "print(test_Y_hat)\n",
    "print (tab_Y_test)\n"
   ]
  },
  {
   "cell_type": "code",
   "execution_count": 40,
   "metadata": {},
   "outputs": [
    {
     "name": "stdout",
     "output_type": "stream",
     "text": [
      "Mean Absolute Error(MAE) avec calcul: 39409.93\n",
      "Mean Squared Error(MSE) avec calcul : 3754916590.633271\n",
      "Root Mean Squared Error(RMSE) avec calcul : 61277.37421457672\n",
      "MSE avec fonction est: 3754916590.633271\n",
      "RMSE avec fonction est: 61277.37421457672\n",
      "R2-score: -0.42278552800433156\n"
     ]
    }
   ],
   "source": [
    "from sklearn.metrics import r2_score\n",
    "from sklearn.metrics import mean_squared_error\n",
    "print(\"Mean Absolute Error(MAE) avec calcul: %.2f\" % np.mean(np.absolute(test_Y_hat - tab_Y_test)))\n",
    "print(\"Mean Squared Error(MSE) avec calcul :\", ((np.mean((test_Y_hat - tab_Y_test) ** 2))))\n",
    "print(\"Root Mean Squared Error(RMSE) avec calcul :\", ((np.mean((test_Y_hat - tab_Y_test) ** 2))**0.5))\n",
    "# C'est la Somme des carrés des résidus (RSS) si on ne fait pas la moyenne\n",
    "b1=mean_squared_error(tab_Y_test, test_Y_hat)\n",
    "print(\"MSE avec fonction est:\",b1)\n",
    "# On aura RMSE si on met squared=False ça sera Root Squared Error (RMSE)\n",
    "b2=mean_squared_error(tab_Y_test, test_Y_hat, squared= False)\n",
    "print(\"RMSE avec fonction est:\",b2)\n",
    "print(\"R2-score:\", r2_score(test_Y_hat , tab_Y_test) )"
   ]
  },
  {
   "cell_type": "markdown",
   "metadata": {},
   "source": [
    "## Activité1 "
   ]
  },
  {
   "cell_type": "raw",
   "metadata": {},
   "source": [
    "Appliquez la regression linéaire simple sur la variable x= 'TotalBsmtSF', y='SalePrice'\n",
    "Appliquez svm sur la variable x= 'TotalBsmtSF', y='SalePrice'\n",
    "Appliquez Naive Bayes\n",
    "\n",
    "Evaluer les modèles et effectuer les interprétations nécesssaires"
   ]
  },
  {
   "cell_type": "markdown",
   "metadata": {
    "id": "rfXoPbYYPK9J"
   },
   "source": [
    "## Régression linéaire multiple "
   ]
  },
  {
   "cell_type": "code",
   "execution_count": 41,
   "metadata": {
    "id": "C2DiZInaPNEZ"
   },
   "outputs": [],
   "source": [
    "dfX = df[['GrLivArea','TotalBsmtSF']]\n",
    "dfY= df[['SalePrice']]\n",
    "Xm_train, Xm_test, Ym_train, Ym_test = train_test_split(dfX, dfY, test_size=0.2)\n",
    "tab_Xm_train = Xm_train.to_numpy ()\n",
    "tab_Ym_train = Ym_train.to_numpy ()\n",
    "tab_Xm_test = Xm_test.to_numpy ()\n",
    "tab_Ym_test = Ym_test.to_numpy ()\n",
    "regM= LinearRegression()\n",
    "predM = regM.fit(tab_Xm_train,tab_Ym_train)\n",
    "YM = regM.predict(tab_Xm_test)\n"
   ]
  },
  {
   "cell_type": "code",
   "execution_count": 42,
   "metadata": {
    "colab": {
     "base_uri": "https://localhost:8080/"
    },
    "id": "w8Ee77wLQPWK",
    "outputId": "6cf03170-c01d-4eba-d4cd-1af52ccc0149"
   },
   "outputs": [
    {
     "name": "stdout",
     "output_type": "stream",
     "text": [
      "[-10356.76531753]\n"
     ]
    },
    {
     "data": {
      "text/plain": [
       "array([[80.27858574, 65.75119   ]])"
      ]
     },
     "execution_count": 42,
     "metadata": {},
     "output_type": "execute_result"
    }
   ],
   "source": [
    "print (predM.intercept_)\n",
    "predM.coef_"
   ]
  },
  {
   "cell_type": "markdown",
   "metadata": {},
   "source": [
    "## Activité2 "
   ]
  },
  {
   "cell_type": "raw",
   "metadata": {},
   "source": [
    "Evaluer le modèle ci-dessus"
   ]
  },
  {
   "cell_type": "code",
   "execution_count": 43,
   "metadata": {
    "id": "s-oE-sJuSCUq"
   },
   "outputs": [],
   "source": [
    "x1=df['GrLivArea'].to_numpy()\n",
    "x2=df['TotalBsmtSF'].to_numpy()\n"
   ]
  },
  {
   "cell_type": "markdown",
   "metadata": {
    "id": "lDx3sFP4Q9xq"
   },
   "source": [
    "Calculer YM en fonction de pred.intercept_ et pred.coef_ "
   ]
  },
  {
   "cell_type": "code",
   "execution_count": 44,
   "metadata": {},
   "outputs": [],
   "source": [
    "w0 = predM.intercept_\n",
    "w1 = predM.coef_[0][0]\n",
    "w2 = predM.coef_[0][1]\n"
   ]
  },
  {
   "cell_type": "code",
   "execution_count": 45,
   "metadata": {
    "id": "ETiONsZNR3cF"
   },
   "outputs": [
    {
     "data": {
      "text/plain": [
       "array([[163563.68650121],\n",
       "       [159859.20058599],\n",
       "       [204898.00991678],\n",
       "       [ 93684.2818075 ],\n",
       "       [259331.93150708],\n",
       "       [244851.80361424],\n",
       "       [122556.3621272 ],\n",
       "       [191179.10287646],\n",
       "       [171012.21615561],\n",
       "       [111286.03787661],\n",
       "       [252496.83102035],\n",
       "       [209755.70109646],\n",
       "       [185031.07462696],\n",
       "       [199202.25969287],\n",
       "       [238576.46919706],\n",
       "       [209675.50593489],\n",
       "       [185173.65900801],\n",
       "       [148231.57113966],\n",
       "       [190230.12039491],\n",
       "       [182135.24926643],\n",
       "       [232052.66241629],\n",
       "       [104130.57886519],\n",
       "       [142314.71985806],\n",
       "       [165454.68725206],\n",
       "       [224246.57729362],\n",
       "       [155995.8359842 ],\n",
       "       [162357.82923012],\n",
       "       [195485.43041257],\n",
       "       [156658.80546053],\n",
       "       [154395.72184565],\n",
       "       [180605.84334914],\n",
       "       [163542.10646837],\n",
       "       [126091.81002146],\n",
       "       [125192.03415185],\n",
       "       [235669.39498712],\n",
       "       [101447.79583442],\n",
       "       [108005.44758959],\n",
       "       [171742.36503432],\n",
       "       [192478.59318987],\n",
       "       [158745.71499317],\n",
       "       [108803.53168897],\n",
       "       [169488.09596564],\n",
       "       [136986.0170434 ],\n",
       "       [160915.75453567],\n",
       "       [135799.97789603],\n",
       "       [219056.01237514],\n",
       "       [267143.64105446],\n",
       "       [221645.24578778],\n",
       "       [126128.3395716 ],\n",
       "       [100636.02358175],\n",
       "       [297430.16448884],\n",
       "       [314230.3860632 ],\n",
       "       [164666.42879036],\n",
       "       [143558.61831587],\n",
       "       [206351.42188548],\n",
       "       [184908.80891472],\n",
       "       [226589.18367596],\n",
       "       [141722.45360233],\n",
       "       [153342.61329067],\n",
       "       [ 79597.57654032],\n",
       "       [162266.80234004],\n",
       "       [198883.32938056],\n",
       "       [142786.56573484],\n",
       "       [111140.00810087],\n",
       "       [141514.20145547],\n",
       "       [140453.78499019],\n",
       "       [176782.44869153],\n",
       "       [ 98755.02031761],\n",
       "       [ 71224.41743781],\n",
       "       [256943.89260355],\n",
       "       [134212.7126683 ],\n",
       "       [126720.10028159],\n",
       "       [151387.87853213],\n",
       "       [112389.19228599],\n",
       "       [ 84363.90713321],\n",
       "       [159787.31942554],\n",
       "       [237668.88487208],\n",
       "       [143850.67786736],\n",
       "       [209038.06743184],\n",
       "       [225627.35228359],\n",
       "       [166418.78609928],\n",
       "       [103479.95275393],\n",
       "       [135088.89132276],\n",
       "       [165340.14657102],\n",
       "       [101794.1024533 ],\n",
       "       [221053.40165361],\n",
       "       [294835.64034821],\n",
       "       [156044.87574778],\n",
       "       [188480.36423756],\n",
       "       [124629.8337791 ],\n",
       "       [227693.18232847],\n",
       "       [151641.81347272],\n",
       "       [223522.55838535],\n",
       "       [166631.32288331],\n",
       "       [287836.03675022],\n",
       "       [143499.33079304],\n",
       "       [113476.48451276],\n",
       "       [219132.0897479 ],\n",
       "       [131286.23745553],\n",
       "       [279876.10839576],\n",
       "       [174189.34776263],\n",
       "       [206218.74156563],\n",
       "       [136841.24863168],\n",
       "       [ 82124.16546027],\n",
       "       [203287.31432226],\n",
       "       [238505.51570392],\n",
       "       [145749.06495202],\n",
       "       [210110.40514063],\n",
       "       [152320.40486047],\n",
       "       [137429.90264436],\n",
       "       [131584.17670492],\n",
       "       [136197.00276341],\n",
       "       [138714.52686463],\n",
       "       [120475.41571665],\n",
       "       [144154.99735974],\n",
       "       [ 64302.31942496],\n",
       "       [133482.56378959],\n",
       "       [241982.34846945],\n",
       "       [179043.85382149],\n",
       "       [214675.11910284],\n",
       "       [126181.07500242],\n",
       "       [129831.819396  ],\n",
       "       [212948.37119072],\n",
       "       [189908.16680947],\n",
       "       [187951.67014183],\n",
       "       [151392.49686601],\n",
       "       [205056.12778439],\n",
       "       [185875.34206515],\n",
       "       [136403.15930445],\n",
       "       [183815.80883908],\n",
       "       [119886.51143143],\n",
       "       [208365.7728629 ],\n",
       "       [153838.81220088],\n",
       "       [150603.48258603],\n",
       "       [127349.31320837],\n",
       "       [120193.85419695],\n",
       "       [110117.79967066],\n",
       "       [145749.06495202],\n",
       "       [223913.95382736],\n",
       "       [128766.0237779 ],\n",
       "       [170410.12426219],\n",
       "       [164085.58323306],\n",
       "       [181305.59264816],\n",
       "       [131085.9606124 ],\n",
       "       [193761.11680365],\n",
       "       [192916.6825171 ],\n",
       "       [224569.8706666 ],\n",
       "       [155665.65182182],\n",
       "       [207081.57076419],\n",
       "       [186305.28423962],\n",
       "       [116615.7467821 ],\n",
       "       [101794.1024533 ],\n",
       "       [112906.13698725],\n",
       "       [194522.25423199],\n",
       "       [192940.78027732],\n",
       "       [294552.65061613],\n",
       "       [223874.99497467],\n",
       "       [150129.95822432],\n",
       "       [176845.09318422],\n",
       "       [ 94784.67321762],\n",
       "       [219202.04215089],\n",
       "       [155283.070926  ],\n",
       "       [141514.20145547],\n",
       "       [147618.39724519],\n",
       "       [134212.7126683 ],\n",
       "       [166654.49797689],\n",
       "       [258922.14115306],\n",
       "       [144438.15394018],\n",
       "       [221517.94462076],\n",
       "       [177898.2017392 ],\n",
       "       [113476.48451276],\n",
       "       [111826.82506488],\n",
       "       [151620.31686407],\n",
       "       [221538.51856278],\n",
       "       [117316.41874776],\n",
       "       [168836.63061192],\n",
       "       [196859.48646217],\n",
       "       [173348.6925675 ],\n",
       "       [199687.28817719],\n",
       "       [179038.5630935 ],\n",
       "       [160273.60927389],\n",
       "       [145569.69574762],\n",
       "       [219749.46485535],\n",
       "       [234390.06149483],\n",
       "       [293574.78019145],\n",
       "       [248378.18668976],\n",
       "       [223585.87027147],\n",
       "       [237508.74982215],\n",
       "       [154395.72184565],\n",
       "       [196065.51515092],\n",
       "       [247620.9952012 ],\n",
       "       [368354.78585798],\n",
       "       [116209.98579203],\n",
       "       [175977.22853088],\n",
       "       [128143.95191306],\n",
       "       [131607.35179851],\n",
       "       [236367.88792277],\n",
       "       [198611.84377108],\n",
       "       [219342.35907708],\n",
       "       [115812.96092465],\n",
       "       [201454.76185177],\n",
       "       [ 65919.14498993],\n",
       "       [ 98727.47716269],\n",
       "       [268364.10914548],\n",
       "       [131146.08737769],\n",
       "       [118622.71142571],\n",
       "       [101794.1024533 ],\n",
       "       [147603.11403116],\n",
       "       [272004.35550727],\n",
       "       [197450.49135387],\n",
       "       [238823.1846522 ],\n",
       "       [164792.30174499],\n",
       "       [173925.17006346],\n",
       "       [154313.84819916],\n",
       "       [187075.49148737],\n",
       "       [162746.12297548],\n",
       "       [169551.91839817],\n",
       "       [115812.96092465],\n",
       "       [241982.68716684],\n",
       "       [257164.74338869],\n",
       "       [122822.39016033],\n",
       "       [156263.20880554],\n",
       "       [152363.56492614],\n",
       "       [164878.96557439],\n",
       "       [141514.20145547],\n",
       "       [174516.93077345],\n",
       "       [222428.8859156 ],\n",
       "       [293273.9010931 ],\n",
       "       [159221.33996137],\n",
       "       [146333.18405499],\n",
       "       [189411.96789926],\n",
       "       [149523.16457284],\n",
       "       [120193.85419695],\n",
       "       [187951.67014183],\n",
       "       [197348.04376536],\n",
       "       [202600.24208504],\n",
       "       [238484.85833773],\n",
       "       [197297.5757894 ],\n",
       "       [174550.85417136],\n",
       "       [256705.24087698],\n",
       "       [164826.48041611],\n",
       "       [ 86789.89879861],\n",
       "       [331215.36599612],\n",
       "       [170866.18637986],\n",
       "       [121554.05524491],\n",
       "       [100636.02358175],\n",
       "       [139290.16511812],\n",
       "       [270312.46366103],\n",
       "       [185325.14636009],\n",
       "       [162867.46602107],\n",
       "       [155177.01109444],\n",
       "       [ 59737.52703924],\n",
       "       [229482.2360359 ],\n",
       "       [148815.69024263],\n",
       "       [280169.67958382],\n",
       "       [ 88335.84929395],\n",
       "       [184885.04485122],\n",
       "       [201739.01294789],\n",
       "       [185907.25328142],\n",
       "       [118702.99001146],\n",
       "       [226211.47138656],\n",
       "       [ 73775.19254283],\n",
       "       [264311.04915653],\n",
       "       [147647.45203668],\n",
       "       [149983.92844858],\n",
       "       [211221.20615769],\n",
       "       [135589.20302111],\n",
       "       [145457.00540053],\n",
       "       [153999.36937237],\n",
       "       [169247.26020841],\n",
       "       [126327.10477817],\n",
       "       [143850.67786736],\n",
       "       [122822.39016033],\n",
       "       [ 88472.55897775],\n",
       "       [330151.4157113 ],\n",
       "       [218794.18055433],\n",
       "       [174748.10774135],\n",
       "       [135526.98064999],\n",
       "       [143996.7076431 ],\n",
       "       [194204.0747373 ],\n",
       "       [204795.22363089],\n",
       "       [105882.93617411],\n",
       "       [296327.67747289],\n",
       "       [147606.47100101],\n",
       "       [158161.5958902 ],\n",
       "       [119652.56146293],\n",
       "       [196036.46035942],\n",
       "       [214289.42650905],\n",
       "       [232985.10031979],\n",
       "       [227671.769144  ],\n",
       "       [231176.48376183],\n",
       "       [113476.48451276]])"
      ]
     },
     "execution_count": 45,
     "metadata": {},
     "output_type": "execute_result"
    }
   ],
   "source": [
    "# YM = ?? terminez la fonction\n",
    "YM"
   ]
  },
  {
   "cell_type": "code",
   "execution_count": 46,
   "metadata": {
    "colab": {
     "base_uri": "https://localhost:8080/"
    },
    "id": "xcfF9YiOSLN6",
    "outputId": "077269af-4d39-4bbd-82f1-8e756af91eba"
   },
   "outputs": [
    {
     "data": {
      "text/plain": [
       "array([[183202.63494461],\n",
       "       [173932.81167047],\n",
       "       [193511.88362112],\n",
       "       ...,\n",
       "       [253240.49620332],\n",
       "       [147063.33293371],\n",
       "       [173056.63301601]])"
      ]
     },
     "execution_count": 46,
     "metadata": {},
     "output_type": "execute_result"
    }
   ],
   "source": [
    "Ypredit= regM.predict(df[['GrLivArea','TotalBsmtSF']])\n",
    "Ypredit"
   ]
  },
  {
   "cell_type": "markdown",
   "metadata": {},
   "source": [
    "## Activité3 "
   ]
  },
  {
   "cell_type": "raw",
   "metadata": {},
   "source": [
    "Terminer le travail pour proposer un meilleur modèle: Appliquer svm \n",
    "Evaluer svm\n",
    "Choisir entre régression linéaire ou bien svm ou autre"
   ]
  },
  {
   "cell_type": "code",
   "execution_count": null,
   "metadata": {},
   "outputs": [],
   "source": []
  }
 ],
 "metadata": {
  "colab": {
   "name": "TPDataScience.ipynb",
   "provenance": []
  },
  "kernelspec": {
   "display_name": "Python 3",
   "language": "python",
   "name": "python3"
  },
  "language_info": {
   "codemirror_mode": {
    "name": "ipython",
    "version": 3
   },
   "file_extension": ".py",
   "mimetype": "text/x-python",
   "name": "python",
   "nbconvert_exporter": "python",
   "pygments_lexer": "ipython3",
   "version": "3.7.6"
  }
 },
 "nbformat": 4,
 "nbformat_minor": 1
}
